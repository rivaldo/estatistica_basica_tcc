{
 "cells": [
  {
   "cell_type": "code",
   "execution_count": 2,
   "metadata": {},
   "outputs": [],
   "source": [
    "import pandas as pd"
   ]
  },
  {
   "cell_type": "code",
   "execution_count": 3,
   "metadata": {},
   "outputs": [
    {
     "name": "stderr",
     "output_type": "stream",
     "text": [
      "/tmp/ipykernel_30281/908108386.py:1: DtypeWarning: Columns (27) have mixed types. Specify dtype option on import or set low_memory=False.\n",
      "  censo_2022 = pd.read_csv('./Microdados do Censo Escolar da EducaЗ╞o Bаsica 2022/dados/microdados_ed_basica_2022.csv', delimiter=';', encoding='latin-1')\n"
     ]
    }
   ],
   "source": [
    "censo_2022 = pd.read_csv('./Microdados do Censo Escolar da EducaЗ╞o Bаsica 2022/dados/microdados_ed_basica_2022.csv', delimiter=';', encoding='latin-1')"
   ]
  },
  {
   "cell_type": "code",
   "execution_count": 4,
   "metadata": {},
   "outputs": [
    {
     "data": {
      "text/plain": [
       "(224649, 385)"
      ]
     },
     "execution_count": 4,
     "metadata": {},
     "output_type": "execute_result"
    }
   ],
   "source": [
    "censo_2022.shape"
   ]
  },
  {
   "cell_type": "code",
   "execution_count": 5,
   "metadata": {},
   "outputs": [],
   "source": [
    "censo_estadual = censo_2022.loc[\n",
    "    (censo_2022['SG_UF'] == 'PB') & \n",
    "    (censo_2022['TP_DEPENDENCIA'] ==2) & \n",
    "    (censo_2022['TP_SITUACAO_FUNCIONAMENTO'] == 1)\n",
    "]\n",
    "censo_estadual.reset_index(drop=True, inplace=True)"
   ]
  },
  {
   "cell_type": "code",
   "execution_count": 6,
   "metadata": {},
   "outputs": [
    {
     "name": "stderr",
     "output_type": "stream",
     "text": [
      "/tmp/ipykernel_30281/610885586.py:1: SettingWithCopyWarning: \n",
      "A value is trying to be set on a copy of a slice from a DataFrame\n",
      "\n",
      "See the caveats in the documentation: https://pandas.pydata.org/pandas-docs/stable/user_guide/indexing.html#returning-a-view-versus-a-copy\n",
      "  censo_estadual.rename(columns={'CO_ENTIDADE' : 'INEP'}, inplace=True)\n"
     ]
    }
   ],
   "source": [
    "censo_estadual.rename(columns={'CO_ENTIDADE' : 'INEP'}, inplace=True)"
   ]
  },
  {
   "cell_type": "code",
   "execution_count": 7,
   "metadata": {},
   "outputs": [
    {
     "data": {
      "text/plain": [
       "0      25033204\n",
       "1      25023489\n",
       "2      25062638\n",
       "3      25062670\n",
       "4      25062816\n",
       "         ...   \n",
       "639    25084950\n",
       "640    25040600\n",
       "641    25019740\n",
       "642    25126342\n",
       "643    25048368\n",
       "Name: INEP, Length: 644, dtype: int64"
      ]
     },
     "execution_count": 7,
     "metadata": {},
     "output_type": "execute_result"
    }
   ],
   "source": [
    "censo_estadual['INEP']"
   ]
  },
  {
   "cell_type": "code",
   "execution_count": 8,
   "metadata": {},
   "outputs": [],
   "source": [
    "df_escolas = pd.read_csv('./dados/Sem título 1.csv')"
   ]
  },
  {
   "cell_type": "code",
   "execution_count": 9,
   "metadata": {},
   "outputs": [],
   "source": [
    "df_escolas.drop(columns='#', inplace=True)"
   ]
  },
  {
   "cell_type": "code",
   "execution_count": 10,
   "metadata": {},
   "outputs": [
    {
     "data": {
      "text/html": [
       "<div>\n",
       "<style scoped>\n",
       "    .dataframe tbody tr th:only-of-type {\n",
       "        vertical-align: middle;\n",
       "    }\n",
       "\n",
       "    .dataframe tbody tr th {\n",
       "        vertical-align: top;\n",
       "    }\n",
       "\n",
       "    .dataframe thead th {\n",
       "        text-align: right;\n",
       "    }\n",
       "</style>\n",
       "<table border=\"1\" class=\"dataframe\">\n",
       "  <thead>\n",
       "    <tr style=\"text-align: right;\">\n",
       "      <th></th>\n",
       "      <th>INEP</th>\n",
       "      <th>ESCOLA</th>\n",
       "      <th>MUNICÍPIO</th>\n",
       "      <th>LOGRADOURO</th>\n",
       "      <th>CEP</th>\n",
       "      <th>Velocidade Link</th>\n",
       "    </tr>\n",
       "  </thead>\n",
       "  <tbody>\n",
       "    <tr>\n",
       "      <th>0</th>\n",
       "      <td>25053159</td>\n",
       "      <td>EEEF CLOVIS PEDROSA</td>\n",
       "      <td>Cabaceiras</td>\n",
       "      <td>DISTRITO DE RIBEIRA, -</td>\n",
       "      <td>58480000</td>\n",
       "      <td>200Mbits</td>\n",
       "    </tr>\n",
       "    <tr>\n",
       "      <th>1</th>\n",
       "      <td>25077759</td>\n",
       "      <td>ECIT FRANCISCA MARTINIANO DA ROCHA</td>\n",
       "      <td>Lagoa Seca</td>\n",
       "      <td>LUCAS DA ROCHA, 297 - CENTRO</td>\n",
       "      <td>58117000</td>\n",
       "      <td>200Mbits</td>\n",
       "    </tr>\n",
       "    <tr>\n",
       "      <th>2</th>\n",
       "      <td>25018280</td>\n",
       "      <td>ECI MESTRE JULIO SARMENTO</td>\n",
       "      <td>Sousa</td>\n",
       "      <td>RUA JOSE DE PAIVA GADELHA, 125 - GATO PRETO</td>\n",
       "      <td>58802085</td>\n",
       "      <td>200Mbits</td>\n",
       "    </tr>\n",
       "    <tr>\n",
       "      <th>3</th>\n",
       "      <td>25071939</td>\n",
       "      <td>ECI AUDIOCOMUNICACAO DE CAMPINA GRANDE</td>\n",
       "      <td>Campina Grande</td>\n",
       "      <td>RUA PROFESSORA EUTECIA VITAL RIBEIRO, SN - CATOLE</td>\n",
       "      <td>58410205</td>\n",
       "      <td>200Mbits</td>\n",
       "    </tr>\n",
       "    <tr>\n",
       "      <th>4</th>\n",
       "      <td>25049372</td>\n",
       "      <td>ECI EEFM MANOEL HONORATO SOBRINHO</td>\n",
       "      <td>Coxixola</td>\n",
       "      <td>RUA PROJETADA, SN - CENTRO</td>\n",
       "      <td>58588000</td>\n",
       "      <td>200Mbits</td>\n",
       "    </tr>\n",
       "  </tbody>\n",
       "</table>\n",
       "</div>"
      ],
      "text/plain": [
       "       INEP                                  ESCOLA       MUNICÍPIO  \\\n",
       "0  25053159                     EEEF CLOVIS PEDROSA      Cabaceiras   \n",
       "1  25077759      ECIT FRANCISCA MARTINIANO DA ROCHA      Lagoa Seca   \n",
       "2  25018280               ECI MESTRE JULIO SARMENTO           Sousa   \n",
       "3  25071939  ECI AUDIOCOMUNICACAO DE CAMPINA GRANDE  Campina Grande   \n",
       "4  25049372       ECI EEFM MANOEL HONORATO SOBRINHO        Coxixola   \n",
       "\n",
       "                                          LOGRADOURO       CEP Velocidade Link  \n",
       "0                            DISTRITO DE RIBEIRA, -   58480000        200Mbits  \n",
       "1                       LUCAS DA ROCHA, 297 - CENTRO  58117000        200Mbits  \n",
       "2        RUA JOSE DE PAIVA GADELHA, 125 - GATO PRETO  58802085        200Mbits  \n",
       "3  RUA PROFESSORA EUTECIA VITAL RIBEIRO, SN - CATOLE  58410205        200Mbits  \n",
       "4                         RUA PROJETADA, SN - CENTRO  58588000        200Mbits  "
      ]
     },
     "execution_count": 10,
     "metadata": {},
     "output_type": "execute_result"
    }
   ],
   "source": [
    "df_escolas.head(5)"
   ]
  },
  {
   "cell_type": "code",
   "execution_count": 11,
   "metadata": {},
   "outputs": [],
   "source": [
    "df_escolas_ausentes = censo_estadual.loc[~censo_estadual['INEP'].isin(df_escolas['INEP'])].reset_index(drop=True)"
   ]
  },
  {
   "cell_type": "code",
   "execution_count": 12,
   "metadata": {},
   "outputs": [
    {
     "data": {
      "text/plain": [
       "(119, 385)"
      ]
     },
     "execution_count": 12,
     "metadata": {},
     "output_type": "execute_result"
    }
   ],
   "source": [
    "df_escolas_ausentes.shape"
   ]
  },
  {
   "cell_type": "code",
   "execution_count": 13,
   "metadata": {},
   "outputs": [
    {
     "data": {
      "text/html": [
       "<div>\n",
       "<style scoped>\n",
       "    .dataframe tbody tr th:only-of-type {\n",
       "        vertical-align: middle;\n",
       "    }\n",
       "\n",
       "    .dataframe tbody tr th {\n",
       "        vertical-align: top;\n",
       "    }\n",
       "\n",
       "    .dataframe thead th {\n",
       "        text-align: right;\n",
       "    }\n",
       "</style>\n",
       "<table border=\"1\" class=\"dataframe\">\n",
       "  <thead>\n",
       "    <tr style=\"text-align: right;\">\n",
       "      <th></th>\n",
       "      <th>NU_ANO_CENSO</th>\n",
       "      <th>NO_REGIAO</th>\n",
       "      <th>CO_REGIAO</th>\n",
       "      <th>NO_UF</th>\n",
       "      <th>SG_UF</th>\n",
       "      <th>CO_UF</th>\n",
       "      <th>NO_MUNICIPIO</th>\n",
       "      <th>CO_MUNICIPIO</th>\n",
       "      <th>NO_MESORREGIAO</th>\n",
       "      <th>CO_MESORREGIAO</th>\n",
       "      <th>...</th>\n",
       "      <th>QT_TUR_FUND_AF</th>\n",
       "      <th>QT_TUR_MED</th>\n",
       "      <th>QT_TUR_PROF</th>\n",
       "      <th>QT_TUR_PROF_TEC</th>\n",
       "      <th>QT_TUR_EJA</th>\n",
       "      <th>QT_TUR_EJA_FUND</th>\n",
       "      <th>QT_TUR_EJA_MED</th>\n",
       "      <th>QT_TUR_ESP</th>\n",
       "      <th>QT_TUR_ESP_CC</th>\n",
       "      <th>QT_TUR_ESP_CE</th>\n",
       "    </tr>\n",
       "  </thead>\n",
       "  <tbody>\n",
       "    <tr>\n",
       "      <th>0</th>\n",
       "      <td>2022</td>\n",
       "      <td>Nordeste</td>\n",
       "      <td>2</td>\n",
       "      <td>Paraíba</td>\n",
       "      <td>PB</td>\n",
       "      <td>25</td>\n",
       "      <td>Aguiar</td>\n",
       "      <td>2500205</td>\n",
       "      <td>Sertão Paraibano</td>\n",
       "      <td>1</td>\n",
       "      <td>...</td>\n",
       "      <td>4.0</td>\n",
       "      <td>5.0</td>\n",
       "      <td>0.0</td>\n",
       "      <td>0.0</td>\n",
       "      <td>4.0</td>\n",
       "      <td>2.0</td>\n",
       "      <td>2.0</td>\n",
       "      <td>10.0</td>\n",
       "      <td>10.0</td>\n",
       "      <td>0.0</td>\n",
       "    </tr>\n",
       "    <tr>\n",
       "      <th>1</th>\n",
       "      <td>2022</td>\n",
       "      <td>Nordeste</td>\n",
       "      <td>2</td>\n",
       "      <td>Paraíba</td>\n",
       "      <td>PB</td>\n",
       "      <td>25</td>\n",
       "      <td>Alagoinha</td>\n",
       "      <td>2500502</td>\n",
       "      <td>Agreste Paraibano</td>\n",
       "      <td>3</td>\n",
       "      <td>...</td>\n",
       "      <td>0.0</td>\n",
       "      <td>13.0</td>\n",
       "      <td>10.0</td>\n",
       "      <td>10.0</td>\n",
       "      <td>6.0</td>\n",
       "      <td>0.0</td>\n",
       "      <td>6.0</td>\n",
       "      <td>11.0</td>\n",
       "      <td>11.0</td>\n",
       "      <td>0.0</td>\n",
       "    </tr>\n",
       "    <tr>\n",
       "      <th>2</th>\n",
       "      <td>2022</td>\n",
       "      <td>Nordeste</td>\n",
       "      <td>2</td>\n",
       "      <td>Paraíba</td>\n",
       "      <td>PB</td>\n",
       "      <td>25</td>\n",
       "      <td>São João do Rio do Peixe</td>\n",
       "      <td>2500700</td>\n",
       "      <td>Sertão Paraibano</td>\n",
       "      <td>1</td>\n",
       "      <td>...</td>\n",
       "      <td>0.0</td>\n",
       "      <td>0.0</td>\n",
       "      <td>0.0</td>\n",
       "      <td>0.0</td>\n",
       "      <td>3.0</td>\n",
       "      <td>3.0</td>\n",
       "      <td>0.0</td>\n",
       "      <td>3.0</td>\n",
       "      <td>3.0</td>\n",
       "      <td>0.0</td>\n",
       "    </tr>\n",
       "    <tr>\n",
       "      <th>3</th>\n",
       "      <td>2022</td>\n",
       "      <td>Nordeste</td>\n",
       "      <td>2</td>\n",
       "      <td>Paraíba</td>\n",
       "      <td>PB</td>\n",
       "      <td>25</td>\n",
       "      <td>São João do Rio do Peixe</td>\n",
       "      <td>2500700</td>\n",
       "      <td>Sertão Paraibano</td>\n",
       "      <td>1</td>\n",
       "      <td>...</td>\n",
       "      <td>3.0</td>\n",
       "      <td>0.0</td>\n",
       "      <td>0.0</td>\n",
       "      <td>0.0</td>\n",
       "      <td>3.0</td>\n",
       "      <td>3.0</td>\n",
       "      <td>0.0</td>\n",
       "      <td>3.0</td>\n",
       "      <td>3.0</td>\n",
       "      <td>0.0</td>\n",
       "    </tr>\n",
       "    <tr>\n",
       "      <th>4</th>\n",
       "      <td>2022</td>\n",
       "      <td>Nordeste</td>\n",
       "      <td>2</td>\n",
       "      <td>Paraíba</td>\n",
       "      <td>PB</td>\n",
       "      <td>25</td>\n",
       "      <td>São João do Rio do Peixe</td>\n",
       "      <td>2500700</td>\n",
       "      <td>Sertão Paraibano</td>\n",
       "      <td>1</td>\n",
       "      <td>...</td>\n",
       "      <td>0.0</td>\n",
       "      <td>0.0</td>\n",
       "      <td>0.0</td>\n",
       "      <td>0.0</td>\n",
       "      <td>6.0</td>\n",
       "      <td>6.0</td>\n",
       "      <td>0.0</td>\n",
       "      <td>1.0</td>\n",
       "      <td>1.0</td>\n",
       "      <td>0.0</td>\n",
       "    </tr>\n",
       "    <tr>\n",
       "      <th>...</th>\n",
       "      <td>...</td>\n",
       "      <td>...</td>\n",
       "      <td>...</td>\n",
       "      <td>...</td>\n",
       "      <td>...</td>\n",
       "      <td>...</td>\n",
       "      <td>...</td>\n",
       "      <td>...</td>\n",
       "      <td>...</td>\n",
       "      <td>...</td>\n",
       "      <td>...</td>\n",
       "      <td>...</td>\n",
       "      <td>...</td>\n",
       "      <td>...</td>\n",
       "      <td>...</td>\n",
       "      <td>...</td>\n",
       "      <td>...</td>\n",
       "      <td>...</td>\n",
       "      <td>...</td>\n",
       "      <td>...</td>\n",
       "      <td>...</td>\n",
       "    </tr>\n",
       "    <tr>\n",
       "      <th>114</th>\n",
       "      <td>2022</td>\n",
       "      <td>Nordeste</td>\n",
       "      <td>2</td>\n",
       "      <td>Paraíba</td>\n",
       "      <td>PB</td>\n",
       "      <td>25</td>\n",
       "      <td>Sertãozinho</td>\n",
       "      <td>2515930</td>\n",
       "      <td>Agreste Paraibano</td>\n",
       "      <td>3</td>\n",
       "      <td>...</td>\n",
       "      <td>4.0</td>\n",
       "      <td>0.0</td>\n",
       "      <td>0.0</td>\n",
       "      <td>0.0</td>\n",
       "      <td>9.0</td>\n",
       "      <td>9.0</td>\n",
       "      <td>0.0</td>\n",
       "      <td>3.0</td>\n",
       "      <td>3.0</td>\n",
       "      <td>0.0</td>\n",
       "    </tr>\n",
       "    <tr>\n",
       "      <th>115</th>\n",
       "      <td>2022</td>\n",
       "      <td>Nordeste</td>\n",
       "      <td>2</td>\n",
       "      <td>Paraíba</td>\n",
       "      <td>PB</td>\n",
       "      <td>25</td>\n",
       "      <td>Solânea</td>\n",
       "      <td>2516003</td>\n",
       "      <td>Agreste Paraibano</td>\n",
       "      <td>3</td>\n",
       "      <td>...</td>\n",
       "      <td>7.0</td>\n",
       "      <td>7.0</td>\n",
       "      <td>7.0</td>\n",
       "      <td>7.0</td>\n",
       "      <td>2.0</td>\n",
       "      <td>0.0</td>\n",
       "      <td>2.0</td>\n",
       "      <td>7.0</td>\n",
       "      <td>7.0</td>\n",
       "      <td>0.0</td>\n",
       "    </tr>\n",
       "    <tr>\n",
       "      <th>116</th>\n",
       "      <td>2022</td>\n",
       "      <td>Nordeste</td>\n",
       "      <td>2</td>\n",
       "      <td>Paraíba</td>\n",
       "      <td>PB</td>\n",
       "      <td>25</td>\n",
       "      <td>Solânea</td>\n",
       "      <td>2516003</td>\n",
       "      <td>Agreste Paraibano</td>\n",
       "      <td>3</td>\n",
       "      <td>...</td>\n",
       "      <td>11.0</td>\n",
       "      <td>0.0</td>\n",
       "      <td>0.0</td>\n",
       "      <td>0.0</td>\n",
       "      <td>0.0</td>\n",
       "      <td>0.0</td>\n",
       "      <td>0.0</td>\n",
       "      <td>2.0</td>\n",
       "      <td>2.0</td>\n",
       "      <td>0.0</td>\n",
       "    </tr>\n",
       "    <tr>\n",
       "      <th>117</th>\n",
       "      <td>2022</td>\n",
       "      <td>Nordeste</td>\n",
       "      <td>2</td>\n",
       "      <td>Paraíba</td>\n",
       "      <td>PB</td>\n",
       "      <td>25</td>\n",
       "      <td>Solânea</td>\n",
       "      <td>2516003</td>\n",
       "      <td>Agreste Paraibano</td>\n",
       "      <td>3</td>\n",
       "      <td>...</td>\n",
       "      <td>0.0</td>\n",
       "      <td>22.0</td>\n",
       "      <td>0.0</td>\n",
       "      <td>0.0</td>\n",
       "      <td>0.0</td>\n",
       "      <td>0.0</td>\n",
       "      <td>0.0</td>\n",
       "      <td>7.0</td>\n",
       "      <td>7.0</td>\n",
       "      <td>0.0</td>\n",
       "    </tr>\n",
       "    <tr>\n",
       "      <th>118</th>\n",
       "      <td>2022</td>\n",
       "      <td>Nordeste</td>\n",
       "      <td>2</td>\n",
       "      <td>Paraíba</td>\n",
       "      <td>PB</td>\n",
       "      <td>25</td>\n",
       "      <td>Tacima</td>\n",
       "      <td>2516409</td>\n",
       "      <td>Agreste Paraibano</td>\n",
       "      <td>3</td>\n",
       "      <td>...</td>\n",
       "      <td>4.0</td>\n",
       "      <td>0.0</td>\n",
       "      <td>0.0</td>\n",
       "      <td>0.0</td>\n",
       "      <td>6.0</td>\n",
       "      <td>6.0</td>\n",
       "      <td>0.0</td>\n",
       "      <td>5.0</td>\n",
       "      <td>5.0</td>\n",
       "      <td>0.0</td>\n",
       "    </tr>\n",
       "  </tbody>\n",
       "</table>\n",
       "<p>119 rows × 385 columns</p>\n",
       "</div>"
      ],
      "text/plain": [
       "     NU_ANO_CENSO NO_REGIAO  CO_REGIAO    NO_UF SG_UF  CO_UF  \\\n",
       "0            2022  Nordeste          2  Paraíba    PB     25   \n",
       "1            2022  Nordeste          2  Paraíba    PB     25   \n",
       "2            2022  Nordeste          2  Paraíba    PB     25   \n",
       "3            2022  Nordeste          2  Paraíba    PB     25   \n",
       "4            2022  Nordeste          2  Paraíba    PB     25   \n",
       "..            ...       ...        ...      ...   ...    ...   \n",
       "114          2022  Nordeste          2  Paraíba    PB     25   \n",
       "115          2022  Nordeste          2  Paraíba    PB     25   \n",
       "116          2022  Nordeste          2  Paraíba    PB     25   \n",
       "117          2022  Nordeste          2  Paraíba    PB     25   \n",
       "118          2022  Nordeste          2  Paraíba    PB     25   \n",
       "\n",
       "                 NO_MUNICIPIO  CO_MUNICIPIO     NO_MESORREGIAO  \\\n",
       "0                      Aguiar       2500205   Sertão Paraibano   \n",
       "1                   Alagoinha       2500502  Agreste Paraibano   \n",
       "2    São João do Rio do Peixe       2500700   Sertão Paraibano   \n",
       "3    São João do Rio do Peixe       2500700   Sertão Paraibano   \n",
       "4    São João do Rio do Peixe       2500700   Sertão Paraibano   \n",
       "..                        ...           ...                ...   \n",
       "114               Sertãozinho       2515930  Agreste Paraibano   \n",
       "115                   Solânea       2516003  Agreste Paraibano   \n",
       "116                   Solânea       2516003  Agreste Paraibano   \n",
       "117                   Solânea       2516003  Agreste Paraibano   \n",
       "118                    Tacima       2516409  Agreste Paraibano   \n",
       "\n",
       "     CO_MESORREGIAO  ... QT_TUR_FUND_AF  QT_TUR_MED  QT_TUR_PROF  \\\n",
       "0                 1  ...            4.0         5.0          0.0   \n",
       "1                 3  ...            0.0        13.0         10.0   \n",
       "2                 1  ...            0.0         0.0          0.0   \n",
       "3                 1  ...            3.0         0.0          0.0   \n",
       "4                 1  ...            0.0         0.0          0.0   \n",
       "..              ...  ...            ...         ...          ...   \n",
       "114               3  ...            4.0         0.0          0.0   \n",
       "115               3  ...            7.0         7.0          7.0   \n",
       "116               3  ...           11.0         0.0          0.0   \n",
       "117               3  ...            0.0        22.0          0.0   \n",
       "118               3  ...            4.0         0.0          0.0   \n",
       "\n",
       "    QT_TUR_PROF_TEC  QT_TUR_EJA  QT_TUR_EJA_FUND  QT_TUR_EJA_MED  QT_TUR_ESP  \\\n",
       "0               0.0         4.0              2.0             2.0        10.0   \n",
       "1              10.0         6.0              0.0             6.0        11.0   \n",
       "2               0.0         3.0              3.0             0.0         3.0   \n",
       "3               0.0         3.0              3.0             0.0         3.0   \n",
       "4               0.0         6.0              6.0             0.0         1.0   \n",
       "..              ...         ...              ...             ...         ...   \n",
       "114             0.0         9.0              9.0             0.0         3.0   \n",
       "115             7.0         2.0              0.0             2.0         7.0   \n",
       "116             0.0         0.0              0.0             0.0         2.0   \n",
       "117             0.0         0.0              0.0             0.0         7.0   \n",
       "118             0.0         6.0              6.0             0.0         5.0   \n",
       "\n",
       "     QT_TUR_ESP_CC QT_TUR_ESP_CE  \n",
       "0             10.0           0.0  \n",
       "1             11.0           0.0  \n",
       "2              3.0           0.0  \n",
       "3              3.0           0.0  \n",
       "4              1.0           0.0  \n",
       "..             ...           ...  \n",
       "114            3.0           0.0  \n",
       "115            7.0           0.0  \n",
       "116            2.0           0.0  \n",
       "117            7.0           0.0  \n",
       "118            5.0           0.0  \n",
       "\n",
       "[119 rows x 385 columns]"
      ]
     },
     "execution_count": 13,
     "metadata": {},
     "output_type": "execute_result"
    }
   ],
   "source": [
    "df_escolas_ausentes"
   ]
  },
  {
   "cell_type": "code",
   "execution_count": 14,
   "metadata": {},
   "outputs": [
    {
     "data": {
      "text/plain": [
       "62"
      ]
     },
     "execution_count": 14,
     "metadata": {},
     "output_type": "execute_result"
    }
   ],
   "source": [
    "len(df_escolas_ausentes['NO_MUNICIPIO'].unique())"
   ]
  },
  {
   "cell_type": "code",
   "execution_count": 15,
   "metadata": {},
   "outputs": [],
   "source": [
    "num_escolas = df_escolas_ausentes['NO_MUNICIPIO'].value_counts()"
   ]
  },
  {
   "cell_type": "code",
   "execution_count": 16,
   "metadata": {},
   "outputs": [
    {
     "data": {
      "text/plain": [
       "João Pessoa                 17\n",
       "Guarabira                    8\n",
       "Mamanguape                   4\n",
       "Cacimba de Dentro            3\n",
       "Salgado de São Félix         3\n",
       "Conceição                    3\n",
       "Catolé do Rocha              3\n",
       "Mulungu                      3\n",
       "Cajazeiras                   3\n",
       "Itaporanga                   3\n",
       "São João do Rio do Peixe     3\n",
       "Pombal                       3\n",
       "Solânea                      3\n",
       "Serra Branca                 2\n",
       "Ingá                         2\n",
       "Santa Rita                   2\n",
       "Duas Estradas                2\n",
       "Diamante                     2\n",
       "Serra da Raiz                2\n",
       "Sertãozinho                  2\n",
       "Bananeiras                   2\n",
       "Pirpirituba                  2\n",
       "Caiçara                      2\n",
       "Bom Sucesso                  2\n",
       "Santa Inês                   1\n",
       "Princesa Isabel              1\n",
       "Santana de Mangueira         1\n",
       "Rio Tinto                    1\n",
       "São Domingos                 1\n",
       "Santana dos Garrotes         1\n",
       "São Bento                    1\n",
       "Pilar                        1\n",
       "São João do Cariri           1\n",
       "São José de Caiana           1\n",
       "São José de Espinharas       1\n",
       "Serra Grande                 1\n",
       "Serraria                     1\n",
       "Pilões                       1\n",
       "Aguiar                       1\n",
       "Piancó                       1\n",
       "Cruz do Espírito Santo       1\n",
       "Araçagi                      1\n",
       "Araruna                      1\n",
       "Belém                        1\n",
       "Boa Ventura                  1\n",
       "Igaracy                      1\n",
       "Borborema                    1\n",
       "Cabedelo                     1\n",
       "Carrapateira                 1\n",
       "Coremas                      1\n",
       "Curral Velho                 1\n",
       "Pedra Branca                 1\n",
       "Ibiara                       1\n",
       "Itabaiana                    1\n",
       "Lagoa                        1\n",
       "Lagoa Seca                   1\n",
       "Alagoinha                    1\n",
       "Marcação                     1\n",
       "Nova Floresta                1\n",
       "Nova Olinda                  1\n",
       "Name: NO_MUNICIPIO, dtype: int64"
      ]
     },
     "execution_count": 16,
     "metadata": {},
     "output_type": "execute_result"
    }
   ],
   "source": [
    "num_escolas.head(60)"
   ]
  },
  {
   "cell_type": "code",
   "execution_count": 17,
   "metadata": {},
   "outputs": [
    {
     "data": {
      "text/plain": [
       "1.0    15\n",
       "0.0     2\n",
       "Name: IN_INTERNET, dtype: int64"
      ]
     },
     "execution_count": 17,
     "metadata": {},
     "output_type": "execute_result"
    }
   ],
   "source": [
    "frequencia = df_escolas_ausentes.loc[df_escolas_ausentes['NO_MUNICIPIO'] == 'João Pessoa']['IN_INTERNET'].value_counts()\n",
    "frequencia"
   ]
  },
  {
   "cell_type": "code",
   "execution_count": 18,
   "metadata": {},
   "outputs": [
    {
     "data": {
      "text/plain": [
       "1.0    88.24\n",
       "0.0    11.76\n",
       "Name: IN_INTERNET, dtype: float64"
      ]
     },
     "execution_count": 18,
     "metadata": {},
     "output_type": "execute_result"
    }
   ],
   "source": [
    "percentual = df_escolas_ausentes.loc[df_escolas_ausentes['NO_MUNICIPIO'] == 'João Pessoa']['IN_INTERNET'].value_counts(normalize=True).round(4)*100\n",
    "percentual"
   ]
  },
  {
   "cell_type": "code",
   "execution_count": 19,
   "metadata": {},
   "outputs": [
    {
     "data": {
      "text/html": [
       "<div>\n",
       "<style scoped>\n",
       "    .dataframe tbody tr th:only-of-type {\n",
       "        vertical-align: middle;\n",
       "    }\n",
       "\n",
       "    .dataframe tbody tr th {\n",
       "        vertical-align: top;\n",
       "    }\n",
       "\n",
       "    .dataframe thead th {\n",
       "        text-align: right;\n",
       "    }\n",
       "</style>\n",
       "<table border=\"1\" class=\"dataframe\">\n",
       "  <thead>\n",
       "    <tr style=\"text-align: right;\">\n",
       "      <th></th>\n",
       "      <th>Frequência</th>\n",
       "      <th>Porcentual (%)</th>\n",
       "    </tr>\n",
       "  </thead>\n",
       "  <tbody>\n",
       "    <tr>\n",
       "      <th>POSSUI INTERNET</th>\n",
       "      <td>111</td>\n",
       "      <td>93.28</td>\n",
       "    </tr>\n",
       "    <tr>\n",
       "      <th>NÃO POSSUI INTERNET</th>\n",
       "      <td>8</td>\n",
       "      <td>6.72</td>\n",
       "    </tr>\n",
       "  </tbody>\n",
       "</table>\n",
       "</div>"
      ],
      "text/plain": [
       "                     Frequência  Porcentual (%)\n",
       "POSSUI INTERNET             111           93.28\n",
       "NÃO POSSUI INTERNET           8            6.72"
      ]
     },
     "execution_count": 19,
     "metadata": {},
     "output_type": "execute_result"
    }
   ],
   "source": [
    "frequencia = df_escolas_ausentes['IN_INTERNET'].value_counts()\n",
    "percentual = df_escolas_ausentes['IN_INTERNET'].value_counts(normalize=True).round(4)*100\n",
    "escolas_com_internet = pd.DataFrame({'Frequência' : frequencia, 'Porcentual (%)': percentual})\n",
    "escolas_com_internet.rename(index={0.0:'NÃO POSSUI INTERNET', 1.0:'POSSUI INTERNET'}, inplace=True)\n",
    "escolas_com_internet"
   ]
  },
  {
   "cell_type": "code",
   "execution_count": 20,
   "metadata": {},
   "outputs": [
    {
     "data": {
      "text/plain": [
       "28126.0"
      ]
     },
     "execution_count": 20,
     "metadata": {},
     "output_type": "execute_result"
    }
   ],
   "source": [
    "df_escolas_ausentes['QT_MAT_BAS'].sum()"
   ]
  },
  {
   "cell_type": "code",
   "execution_count": 21,
   "metadata": {},
   "outputs": [
    {
     "data": {
      "text/plain": [
       "14229.0"
      ]
     },
     "execution_count": 21,
     "metadata": {},
     "output_type": "execute_result"
    }
   ],
   "source": [
    "df_escolas_ausentes['QT_MAT_BAS_FEM'].sum()"
   ]
  },
  {
   "cell_type": "code",
   "execution_count": 22,
   "metadata": {},
   "outputs": [
    {
     "data": {
      "text/plain": [
       "13897.0"
      ]
     },
     "execution_count": 22,
     "metadata": {},
     "output_type": "execute_result"
    }
   ],
   "source": [
    "df_escolas_ausentes['QT_MAT_BAS_MASC'].sum()"
   ]
  },
  {
   "cell_type": "code",
   "execution_count": 23,
   "metadata": {},
   "outputs": [
    {
     "data": {
      "text/plain": [
       "0.0    115\n",
       "1.0      4\n",
       "Name: IN_LABORATORIO_INFORMATICA, dtype: int64"
      ]
     },
     "execution_count": 23,
     "metadata": {},
     "output_type": "execute_result"
    }
   ],
   "source": [
    "df_escolas_ausentes['IN_LABORATORIO_INFORMATICA'].value_counts()"
   ]
  },
  {
   "cell_type": "code",
   "execution_count": 24,
   "metadata": {},
   "outputs": [
    {
     "data": {
      "text/html": [
       "<div>\n",
       "<style scoped>\n",
       "    .dataframe tbody tr th:only-of-type {\n",
       "        vertical-align: middle;\n",
       "    }\n",
       "\n",
       "    .dataframe tbody tr th {\n",
       "        vertical-align: top;\n",
       "    }\n",
       "\n",
       "    .dataframe thead th {\n",
       "        text-align: right;\n",
       "    }\n",
       "</style>\n",
       "<table border=\"1\" class=\"dataframe\">\n",
       "  <thead>\n",
       "    <tr style=\"text-align: right;\">\n",
       "      <th></th>\n",
       "      <th>Quantidade de Escolas</th>\n",
       "      <th>Porcentual (%)</th>\n",
       "    </tr>\n",
       "  </thead>\n",
       "  <tbody>\n",
       "    <tr>\n",
       "      <th>NÃO POSSUI LABORATÓRIO</th>\n",
       "      <td>115</td>\n",
       "      <td>96.64</td>\n",
       "    </tr>\n",
       "    <tr>\n",
       "      <th>POSSUI LABORATÓRIO</th>\n",
       "      <td>4</td>\n",
       "      <td>3.36</td>\n",
       "    </tr>\n",
       "  </tbody>\n",
       "</table>\n",
       "</div>"
      ],
      "text/plain": [
       "                        Quantidade de Escolas  Porcentual (%)\n",
       "NÃO POSSUI LABORATÓRIO                    115           96.64\n",
       "POSSUI LABORATÓRIO                          4            3.36"
      ]
     },
     "execution_count": 24,
     "metadata": {},
     "output_type": "execute_result"
    }
   ],
   "source": [
    "frequencia = df_escolas_ausentes['IN_LABORATORIO_INFORMATICA'].value_counts()\n",
    "percentual = df_escolas_ausentes['IN_LABORATORIO_INFORMATICA'].value_counts(normalize=True).round(4)*100\n",
    "escolas_com_internet = pd.DataFrame({'Quantidade de Escolas' : frequencia, 'Porcentual (%)': percentual})\n",
    "escolas_com_internet.rename(index={0.0:'NÃO POSSUI LABORATÓRIO', 1.0:'POSSUI LABORATÓRIO'}, inplace=True)\n",
    "escolas_com_internet"
   ]
  },
  {
   "cell_type": "code",
   "execution_count": 25,
   "metadata": {},
   "outputs": [
    {
     "data": {
      "text/html": [
       "<div>\n",
       "<style scoped>\n",
       "    .dataframe tbody tr th:only-of-type {\n",
       "        vertical-align: middle;\n",
       "    }\n",
       "\n",
       "    .dataframe tbody tr th {\n",
       "        vertical-align: top;\n",
       "    }\n",
       "\n",
       "    .dataframe thead th {\n",
       "        text-align: right;\n",
       "    }\n",
       "</style>\n",
       "<table border=\"1\" class=\"dataframe\">\n",
       "  <thead>\n",
       "    <tr style=\"text-align: right;\">\n",
       "      <th></th>\n",
       "      <th>NO_ENTIDADE</th>\n",
       "      <th>NO_MUNICIPIO</th>\n",
       "      <th>QT_MAT_BAS_FEM</th>\n",
       "      <th>QT_MAT_BAS_MASC</th>\n",
       "    </tr>\n",
       "  </thead>\n",
       "  <tbody>\n",
       "    <tr>\n",
       "      <th>62</th>\n",
       "      <td>INSTITUTO DOM ADAUTO</td>\n",
       "      <td>João Pessoa</td>\n",
       "      <td>179.0</td>\n",
       "      <td>190.0</td>\n",
       "    </tr>\n",
       "    <tr>\n",
       "      <th>66</th>\n",
       "      <td>ESCOLA DE SAUDE PUBLICA DA PARAIBA</td>\n",
       "      <td>João Pessoa</td>\n",
       "      <td>37.0</td>\n",
       "      <td>5.0</td>\n",
       "    </tr>\n",
       "    <tr>\n",
       "      <th>71</th>\n",
       "      <td>ESCOLA AGRICOLA ASSIS CHATEAUBRIAND-UEPB</td>\n",
       "      <td>Lagoa Seca</td>\n",
       "      <td>70.0</td>\n",
       "      <td>90.0</td>\n",
       "    </tr>\n",
       "    <tr>\n",
       "      <th>99</th>\n",
       "      <td>ECI EEM DOUTOR FELIZARDO LEITE</td>\n",
       "      <td>Santana dos Garrotes</td>\n",
       "      <td>97.0</td>\n",
       "      <td>98.0</td>\n",
       "    </tr>\n",
       "  </tbody>\n",
       "</table>\n",
       "</div>"
      ],
      "text/plain": [
       "                                 NO_ENTIDADE          NO_MUNICIPIO  \\\n",
       "62                      INSTITUTO DOM ADAUTO           João Pessoa   \n",
       "66        ESCOLA DE SAUDE PUBLICA DA PARAIBA           João Pessoa   \n",
       "71  ESCOLA AGRICOLA ASSIS CHATEAUBRIAND-UEPB            Lagoa Seca   \n",
       "99            ECI EEM DOUTOR FELIZARDO LEITE  Santana dos Garrotes   \n",
       "\n",
       "    QT_MAT_BAS_FEM  QT_MAT_BAS_MASC  \n",
       "62           179.0            190.0  \n",
       "66            37.0              5.0  \n",
       "71            70.0             90.0  \n",
       "99            97.0             98.0  "
      ]
     },
     "execution_count": 25,
     "metadata": {},
     "output_type": "execute_result"
    }
   ],
   "source": [
    "df_escolas_ausentes.loc[df_escolas_ausentes['IN_LABORATORIO_INFORMATICA'] == 1][['NO_ENTIDADE', 'NO_MUNICIPIO', 'QT_MAT_BAS_FEM', 'QT_MAT_BAS_MASC']]"
   ]
  },
  {
   "cell_type": "code",
   "execution_count": 26,
   "metadata": {},
   "outputs": [
    {
     "data": {
      "text/plain": [
       "1.0    67\n",
       "0.0    52\n",
       "Name: IN_BIBLIOTECA, dtype: int64"
      ]
     },
     "execution_count": 26,
     "metadata": {},
     "output_type": "execute_result"
    }
   ],
   "source": [
    "df_escolas_ausentes['IN_BIBLIOTECA'].value_counts()"
   ]
  },
  {
   "cell_type": "code",
   "execution_count": 27,
   "metadata": {},
   "outputs": [
    {
     "data": {
      "text/plain": [
       "1.0    0.563025\n",
       "0.0    0.436975\n",
       "Name: IN_BIBLIOTECA, dtype: float64"
      ]
     },
     "execution_count": 27,
     "metadata": {},
     "output_type": "execute_result"
    }
   ],
   "source": [
    "df_escolas_ausentes['IN_BIBLIOTECA'].value_counts(normalize=True)"
   ]
  },
  {
   "cell_type": "code",
   "execution_count": 28,
   "metadata": {},
   "outputs": [
    {
     "data": {
      "text/plain": [
       "1.0    80\n",
       "0.0    39\n",
       "Name: IN_BIBLIOTECA_SALA_LEITURA, dtype: int64"
      ]
     },
     "execution_count": 28,
     "metadata": {},
     "output_type": "execute_result"
    }
   ],
   "source": [
    "df_escolas_ausentes['IN_BIBLIOTECA_SALA_LEITURA'].value_counts()"
   ]
  },
  {
   "cell_type": "code",
   "execution_count": 29,
   "metadata": {},
   "outputs": [
    {
     "data": {
      "text/plain": [
       "1.0    0.672269\n",
       "0.0    0.327731\n",
       "Name: IN_BIBLIOTECA_SALA_LEITURA, dtype: float64"
      ]
     },
     "execution_count": 29,
     "metadata": {},
     "output_type": "execute_result"
    }
   ],
   "source": [
    "df_escolas_ausentes['IN_BIBLIOTECA_SALA_LEITURA'].value_counts(normalize=True)"
   ]
  }
 ],
 "metadata": {
  "kernelspec": {
   "display_name": "Python 3",
   "language": "python",
   "name": "python3"
  },
  "language_info": {
   "codemirror_mode": {
    "name": "ipython",
    "version": 3
   },
   "file_extension": ".py",
   "mimetype": "text/x-python",
   "name": "python",
   "nbconvert_exporter": "python",
   "pygments_lexer": "ipython3",
   "version": "3.10.12"
  }
 },
 "nbformat": 4,
 "nbformat_minor": 2
}
